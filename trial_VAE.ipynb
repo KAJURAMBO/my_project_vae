{
 "cells": [
  {
   "cell_type": "code",
   "execution_count": 154,
   "metadata": {},
   "outputs": [],
   "source": [
    "## Data Generation\n",
    "import pandas as pd\n",
    "import numpy as np\n",
    "import datetime\n",
    "import csv"
   ]
  },
  {
   "cell_type": "code",
   "execution_count": 155,
   "metadata": {},
   "outputs": [],
   "source": [
    "Stresses={\n",
    "        'T_1':80,\n",
    "        #'T_2':80,\n",
    "       # 'T_3':80,\n",
    "       # 'T_4':80,\n",
    "        #'T_5':80,\n",
    "       # 'T_6':80\n",
    "}\n",
    "columns=['stresses','magnetostriction','strain']"
   ]
  },
  {
   "cell_type": "code",
   "execution_count": 156,
   "metadata": {},
   "outputs": [],
   "source": [
    "data=pd.DataFrame(columns=columns)\n",
    "n_e=1000"
   ]
  },
  {
   "cell_type": "code",
   "execution_count": 157,
   "metadata": {},
   "outputs": [],
   "source": [
    "for i in range(n_e):\n",
    "        stress=np.random.normal(80,20)\n",
    "        magnetostriction=np.random.normal(0.006,0.0001)\n",
    "        strain=np.random.normal(0.004,0.0001)\n",
    "        data.loc[i]=[stress,magnetostriction,strain]\n"
   ]
  },
  {
   "cell_type": "code",
   "execution_count": 223,
   "metadata": {},
   "outputs": [],
   "source": [
    "##for test data\n",
    "for i in range(400):\n",
    "        stress=np.random.normal(80,20)\n",
    "        magnetostriction=np.random.normal(0.006,0.0001)\n",
    "        strain=np.random.normal(0.004,0.0001)\n",
    "        data.loc[i]=[stress,magnetostriction,strain]\n",
    "\n",
    "dataframe_test=pd.read_csv('test_data',index_col=False)\n",
    "dataframe_test.head()\n",
    "dataframe=pd.read_csv('test_data',index_col=False)\n",
    "X_test=dataframe_test[['stresses','magnetostriction','strain']]\n",
    "Y_test=dataframe_test[['stresses']]\n",
    "x_test=X_test.to_numpy()\n",
    "y_test=Y_test.to_numpy()"
   ]
  },
  {
   "cell_type": "code",
   "execution_count": 158,
   "metadata": {},
   "outputs": [],
   "source": [
    "dataframe=pd.read_csv('test_data',index_col=False)"
   ]
  },
  {
   "cell_type": "code",
   "execution_count": 159,
   "metadata": {},
   "outputs": [
    {
     "data": {
      "text/html": [
       "<div>\n",
       "<style scoped>\n",
       "    .dataframe tbody tr th:only-of-type {\n",
       "        vertical-align: middle;\n",
       "    }\n",
       "\n",
       "    .dataframe tbody tr th {\n",
       "        vertical-align: top;\n",
       "    }\n",
       "\n",
       "    .dataframe thead th {\n",
       "        text-align: right;\n",
       "    }\n",
       "</style>\n",
       "<table border=\"1\" class=\"dataframe\">\n",
       "  <thead>\n",
       "    <tr style=\"text-align: right;\">\n",
       "      <th></th>\n",
       "      <th>Unnamed: 0</th>\n",
       "      <th>stresses</th>\n",
       "      <th>magnetostriction</th>\n",
       "      <th>strain</th>\n",
       "    </tr>\n",
       "  </thead>\n",
       "  <tbody>\n",
       "    <tr>\n",
       "      <th>0</th>\n",
       "      <td>0</td>\n",
       "      <td>44.030513</td>\n",
       "      <td>0.006046</td>\n",
       "      <td>0.003848</td>\n",
       "    </tr>\n",
       "    <tr>\n",
       "      <th>1</th>\n",
       "      <td>1</td>\n",
       "      <td>70.611077</td>\n",
       "      <td>0.005925</td>\n",
       "      <td>0.003927</td>\n",
       "    </tr>\n",
       "    <tr>\n",
       "      <th>2</th>\n",
       "      <td>2</td>\n",
       "      <td>62.404324</td>\n",
       "      <td>0.005907</td>\n",
       "      <td>0.003907</td>\n",
       "    </tr>\n",
       "    <tr>\n",
       "      <th>3</th>\n",
       "      <td>3</td>\n",
       "      <td>81.506225</td>\n",
       "      <td>0.005928</td>\n",
       "      <td>0.003896</td>\n",
       "    </tr>\n",
       "    <tr>\n",
       "      <th>4</th>\n",
       "      <td>4</td>\n",
       "      <td>78.625517</td>\n",
       "      <td>0.005878</td>\n",
       "      <td>0.003937</td>\n",
       "    </tr>\n",
       "  </tbody>\n",
       "</table>\n",
       "</div>"
      ],
      "text/plain": [
       "   Unnamed: 0   stresses  magnetostriction    strain\n",
       "0           0  44.030513          0.006046  0.003848\n",
       "1           1  70.611077          0.005925  0.003927\n",
       "2           2  62.404324          0.005907  0.003907\n",
       "3           3  81.506225          0.005928  0.003896\n",
       "4           4  78.625517          0.005878  0.003937"
      ]
     },
     "execution_count": 159,
     "metadata": {},
     "output_type": "execute_result"
    }
   ],
   "source": [
    "dataframe.head()"
   ]
  },
  {
   "cell_type": "code",
   "execution_count": 176,
   "metadata": {},
   "outputs": [],
   "source": [
    "X_input=dataframe[['stresses','magnetostriction','strain']]\n",
    "#y_input=dataframe['stresses']\n",
    "from sklearn.model_selection import train_test_split\n"
   ]
  },
  {
   "cell_type": "code",
   "execution_count": 177,
   "metadata": {},
   "outputs": [],
   "source": [
    "X=X_input\n",
    "#y=y_input"
   ]
  },
  {
   "cell_type": "code",
   "execution_count": 178,
   "metadata": {},
   "outputs": [
    {
     "data": {
      "text/html": [
       "<div>\n",
       "<style scoped>\n",
       "    .dataframe tbody tr th:only-of-type {\n",
       "        vertical-align: middle;\n",
       "    }\n",
       "\n",
       "    .dataframe tbody tr th {\n",
       "        vertical-align: top;\n",
       "    }\n",
       "\n",
       "    .dataframe thead th {\n",
       "        text-align: right;\n",
       "    }\n",
       "</style>\n",
       "<table border=\"1\" class=\"dataframe\">\n",
       "  <thead>\n",
       "    <tr style=\"text-align: right;\">\n",
       "      <th></th>\n",
       "      <th>stresses</th>\n",
       "      <th>magnetostriction</th>\n",
       "      <th>strain</th>\n",
       "    </tr>\n",
       "  </thead>\n",
       "  <tbody>\n",
       "    <tr>\n",
       "      <th>0</th>\n",
       "      <td>44.030513</td>\n",
       "      <td>0.006046</td>\n",
       "      <td>0.003848</td>\n",
       "    </tr>\n",
       "    <tr>\n",
       "      <th>1</th>\n",
       "      <td>70.611077</td>\n",
       "      <td>0.005925</td>\n",
       "      <td>0.003927</td>\n",
       "    </tr>\n",
       "    <tr>\n",
       "      <th>2</th>\n",
       "      <td>62.404324</td>\n",
       "      <td>0.005907</td>\n",
       "      <td>0.003907</td>\n",
       "    </tr>\n",
       "    <tr>\n",
       "      <th>3</th>\n",
       "      <td>81.506225</td>\n",
       "      <td>0.005928</td>\n",
       "      <td>0.003896</td>\n",
       "    </tr>\n",
       "    <tr>\n",
       "      <th>4</th>\n",
       "      <td>78.625517</td>\n",
       "      <td>0.005878</td>\n",
       "      <td>0.003937</td>\n",
       "    </tr>\n",
       "    <tr>\n",
       "      <th>...</th>\n",
       "      <td>...</td>\n",
       "      <td>...</td>\n",
       "      <td>...</td>\n",
       "    </tr>\n",
       "    <tr>\n",
       "      <th>995</th>\n",
       "      <td>79.714180</td>\n",
       "      <td>0.006043</td>\n",
       "      <td>0.003964</td>\n",
       "    </tr>\n",
       "    <tr>\n",
       "      <th>996</th>\n",
       "      <td>85.637667</td>\n",
       "      <td>0.005986</td>\n",
       "      <td>0.003805</td>\n",
       "    </tr>\n",
       "    <tr>\n",
       "      <th>997</th>\n",
       "      <td>58.269149</td>\n",
       "      <td>0.005901</td>\n",
       "      <td>0.003992</td>\n",
       "    </tr>\n",
       "    <tr>\n",
       "      <th>998</th>\n",
       "      <td>57.640931</td>\n",
       "      <td>0.006058</td>\n",
       "      <td>0.003996</td>\n",
       "    </tr>\n",
       "    <tr>\n",
       "      <th>999</th>\n",
       "      <td>95.471235</td>\n",
       "      <td>0.005935</td>\n",
       "      <td>0.003923</td>\n",
       "    </tr>\n",
       "  </tbody>\n",
       "</table>\n",
       "<p>1000 rows × 3 columns</p>\n",
       "</div>"
      ],
      "text/plain": [
       "      stresses  magnetostriction    strain\n",
       "0    44.030513          0.006046  0.003848\n",
       "1    70.611077          0.005925  0.003927\n",
       "2    62.404324          0.005907  0.003907\n",
       "3    81.506225          0.005928  0.003896\n",
       "4    78.625517          0.005878  0.003937\n",
       "..         ...               ...       ...\n",
       "995  79.714180          0.006043  0.003964\n",
       "996  85.637667          0.005986  0.003805\n",
       "997  58.269149          0.005901  0.003992\n",
       "998  57.640931          0.006058  0.003996\n",
       "999  95.471235          0.005935  0.003923\n",
       "\n",
       "[1000 rows x 3 columns]"
      ]
     },
     "execution_count": 178,
     "metadata": {},
     "output_type": "execute_result"
    }
   ],
   "source": [
    "#X_train,X_test,y_train,y_test=train_test_split(X,y,test_size=0.3,random_state=0)\n",
    "X"
   ]
  },
  {
   "cell_type": "code",
   "execution_count": 179,
   "metadata": {},
   "outputs": [],
   "source": [
    "#x_train = X_train.astype('float32')\n",
    "#x_test = X_test.astype('float32')\n",
    "#y_train=y_train.astype('float')\n",
    "#y_test=y_test.astype('float')\n"
   ]
  },
  {
   "cell_type": "code",
   "execution_count": 180,
   "metadata": {},
   "outputs": [],
   "source": [
    "array_input_x=X.to_numpy()###700X2\n",
    "#array_input_y=y_train.to_numpy()###700X1"
   ]
  },
  {
   "cell_type": "code",
   "execution_count": 181,
   "metadata": {},
   "outputs": [],
   "source": [
    "import keras\n",
    "from keras.layers import Conv2D, Conv2DTranspose, Input, Flatten, Dense, Lambda, Reshape\n",
    "#from keras.layers import BatchNormalization\n",
    "from keras.models import Model\n",
    "from keras.datasets import mnist\n",
    "from keras import backend as K\n",
    "import numpy as np\n",
    "import matplotlib.pyplot as plt\n",
    "\n",
    "import tensorflow as tf\n",
    "tf.compat.v1.disable_eager_execution()"
   ]
  },
  {
   "cell_type": "code",
   "execution_count": 182,
   "metadata": {},
   "outputs": [],
   "source": [
    "# BUILD THE MODEL\n",
    "\n",
    "# # ================= #############\n",
    "# # Encoder\n",
    "# # ================= ############\n",
    "\n",
    "latent_dim = 2 # Number of latent dim parameters\n",
    "\n",
    "input_encoder = Input(shape=3, name='encoder_input')\n",
    "x = Dense(32, activation='relu')(input_encoder)\n",
    "x = Dense(64 , activation='relu')(x)\n",
    "\n",
    "\n",
    "conv_shape = K.int_shape(x) #Shape of conv to be provided to decoder\n",
    "#Flatten\n"
   ]
  },
  {
   "cell_type": "code",
   "execution_count": 183,
   "metadata": {},
   "outputs": [
    {
     "data": {
      "text/plain": [
       "(None, 64)"
      ]
     },
     "execution_count": 183,
     "metadata": {},
     "output_type": "execute_result"
    }
   ],
   "source": [
    "conv_shape"
   ]
  },
  {
   "cell_type": "code",
   "execution_count": 184,
   "metadata": {},
   "outputs": [],
   "source": [
    "\n",
    "# Two outputs, for latent mean and log variance (std. dev.)\n",
    "#Use these to sample random variables in latent space to which inputs are mapped. \n",
    "z_mu = Dense(latent_dim, name='latent_mu')(x)   #Mean values of encoded input\n",
    "z_sigma = Dense(latent_dim, name='latent_sigma')(x)  #Std dev. (variance) of encoded input"
   ]
  },
  {
   "cell_type": "code",
   "execution_count": 185,
   "metadata": {},
   "outputs": [],
   "source": [
    "#REPARAMETERIZATION TRICK\n",
    "# Define sampling function to sample from the distribution\n",
    "# Reparameterize sample based on the process defined by Gunderson and Huang\n",
    "# into the shape of: mu + sigma squared x eps\n",
    "#This is to allow gradient descent to allow for gradient estimation accurately. \n",
    "def sample_z(args):\n",
    "  z_mu, z_sigma = args\n",
    "  eps = K.random_normal(shape=(K.shape(z_mu)[0], K.int_shape(z_mu)[1]))\n",
    "  return z_mu + K.exp(z_sigma / 2) * eps"
   ]
  },
  {
   "cell_type": "code",
   "execution_count": 186,
   "metadata": {},
   "outputs": [],
   "source": [
    "# sample vector from the latent distribution\n",
    "# z is the labda custom layer we are adding for gradient descent calculations\n",
    "  # using mu and variance (sigma)\n",
    "z = Lambda(sample_z, output_shape=(latent_dim, ), name='z')([z_mu, z_sigma])"
   ]
  },
  {
   "cell_type": "code",
   "execution_count": 187,
   "metadata": {},
   "outputs": [
    {
     "name": "stdout",
     "output_type": "stream",
     "text": [
      "Model: \"encoder\"\n",
      "__________________________________________________________________________________________________\n",
      " Layer (type)                   Output Shape         Param #     Connected to                     \n",
      "==================================================================================================\n",
      " encoder_input (InputLayer)     [(None, 3)]          0           []                               \n",
      "                                                                                                  \n",
      " dense_15 (Dense)               (None, 32)           128         ['encoder_input[0][0]']          \n",
      "                                                                                                  \n",
      " dense_16 (Dense)               (None, 64)           2112        ['dense_15[0][0]']               \n",
      "                                                                                                  \n",
      " latent_mu (Dense)              (None, 2)            130         ['dense_16[0][0]']               \n",
      "                                                                                                  \n",
      " latent_sigma (Dense)           (None, 2)            130         ['dense_16[0][0]']               \n",
      "                                                                                                  \n",
      " z (Lambda)                     (None, 2)            0           ['latent_mu[0][0]',              \n",
      "                                                                  'latent_sigma[0][0]']           \n",
      "                                                                                                  \n",
      "==================================================================================================\n",
      "Total params: 2,500\n",
      "Trainable params: 2,500\n",
      "Non-trainable params: 0\n",
      "__________________________________________________________________________________________________\n",
      "None\n"
     ]
    }
   ],
   "source": [
    "#Z (lambda layer) will be the last layer in the encoder.\n",
    "# Define and summarize encoder model.\n",
    "encoder = Model(input_encoder, [z_mu, z_sigma, z], name='encoder')\n",
    "print(encoder.summary())"
   ]
  },
  {
   "cell_type": "code",
   "execution_count": 213,
   "metadata": {},
   "outputs": [
    {
     "name": "stdout",
     "output_type": "stream",
     "text": [
      "Model: \"decoder\"\n",
      "_________________________________________________________________\n",
      " Layer (type)                Output Shape              Param #   \n",
      "=================================================================\n",
      " decoder_input (InputLayer)  [(None, 2)]               0         \n",
      "                                                                 \n",
      " dense_22 (Dense)            (None, 3)                 9         \n",
      "                                                                 \n",
      "=================================================================\n",
      "Total params: 9\n",
      "Trainable params: 9\n",
      "Non-trainable params: 0\n",
      "_________________________________________________________________\n"
     ]
    }
   ],
   "source": [
    "# Decoder\n",
    "\n",
    "# decoder takes the latent vector as input\n",
    "decoder_input = Input(shape=(latent_dim, ), name='decoder_input')\n",
    "\n",
    "#we want our final utput to be same shape original input.\n",
    "x = Dense(3, activation='relu')(decoder_input)\n",
    "\n",
    "# Define and summarize decoder model\n",
    "decoder = Model(decoder_input, x, name='decoder')\n",
    "decoder.summary()\n",
    "\n",
    "# apply the decoder to the latent sample \n",
    "z_decoded = decoder(z)"
   ]
  },
  {
   "cell_type": "code",
   "execution_count": 214,
   "metadata": {},
   "outputs": [],
   "source": [
    "#Define custom loss\n",
    "#VAE is trained using two loss functions reconstruction loss and KL divergence\n",
    "#Let us add a class to define a custom layer with loss\n",
    "class CustomLayer(keras.layers.Layer):\n",
    "\n",
    "    def vae_loss(self, x, z_decoded):\n",
    "        x = K.flatten(x)\n",
    "        z_decoded = K.flatten(z_decoded)\n",
    "        \n",
    "        # Reconstruction loss (as we used sigmoid activation we can use binarycrossentropy)\n",
    "        recon_loss = keras.metrics.mse(x, z_decoded)\n",
    "        \n",
    "        # KL divergence\n",
    "        kl_loss = -5e-4 * K.mean(1 + z_sigma - K.square(z_mu) - K.exp(z_sigma), axis=-1)\n",
    "        return K.mean(recon_loss + kl_loss)\n",
    "\n",
    "    # add custom loss to the class\n",
    "    def call(self, inputs):\n",
    "        x = inputs[0]\n",
    "        z_decoded = inputs[1]\n",
    "        loss = self.vae_loss(x, z_decoded)\n",
    "        self.add_loss(loss, inputs=inputs)\n",
    "        return x"
   ]
  },
  {
   "cell_type": "code",
   "execution_count": 215,
   "metadata": {},
   "outputs": [
    {
     "name": "stdout",
     "output_type": "stream",
     "text": [
      "WARNING:tensorflow:Output custom_layer_10 missing from loss dictionary. We assume this was done on purpose. The fit and evaluate APIs will not be expecting any data to be passed to custom_layer_10.\n",
      "Model: \"vae\"\n",
      "__________________________________________________________________________________________________\n",
      " Layer (type)                   Output Shape         Param #     Connected to                     \n",
      "==================================================================================================\n",
      " encoder_input (InputLayer)     [(None, 3)]          0           []                               \n",
      "                                                                                                  \n",
      " dense_15 (Dense)               (None, 32)           128         ['encoder_input[0][0]']          \n",
      "                                                                                                  \n",
      " dense_16 (Dense)               (None, 64)           2112        ['dense_15[0][0]']               \n",
      "                                                                                                  \n",
      " latent_mu (Dense)              (None, 2)            130         ['dense_16[0][0]']               \n",
      "                                                                                                  \n",
      " latent_sigma (Dense)           (None, 2)            130         ['dense_16[0][0]']               \n",
      "                                                                                                  \n",
      " z (Lambda)                     (None, 2)            0           ['latent_mu[0][0]',              \n",
      "                                                                  'latent_sigma[0][0]']           \n",
      "                                                                                                  \n",
      " decoder (Functional)           (None, 3)            9           ['z[0][0]']                      \n",
      "                                                                                                  \n",
      " custom_layer_10 (CustomLayer)  (None, 3)            0           ['encoder_input[0][0]',          \n",
      "                                                                  'decoder[0][0]']                \n",
      "                                                                                                  \n",
      "==================================================================================================\n",
      "Total params: 2,509\n",
      "Trainable params: 2,509\n",
      "Non-trainable params: 0\n",
      "__________________________________________________________________________________________________\n"
     ]
    }
   ],
   "source": [
    "# apply the custom loss to the input images and the decoded latent distribution sample\n",
    "y = CustomLayer()([input_encoder, z_decoded])\n",
    "# y is basically the original image after encoding input img to mu, sigma, z\n",
    "# and decoding sampled z values.\n",
    "#This will be used as output for vae\n",
    "\n",
    "# =================\n",
    "# VAE \n",
    "# =================\n",
    "vae = Model(input_encoder, y, name='vae')\n",
    "\n",
    "# Compile VAE\n",
    "vae.compile(optimizer='adam', loss=None)\n",
    "vae.summary()"
   ]
  },
  {
   "cell_type": "code",
   "execution_count": 216,
   "metadata": {},
   "outputs": [
    {
     "data": {
      "text/plain": [
       "TensorShape([None, 3])"
      ]
     },
     "execution_count": 216,
     "metadata": {},
     "output_type": "execute_result"
    }
   ],
   "source": [
    "z_decoded.shape"
   ]
  },
  {
   "cell_type": "code",
   "execution_count": 219,
   "metadata": {},
   "outputs": [
    {
     "name": "stdout",
     "output_type": "stream",
     "text": [
      "Train on 800 samples, validate on 200 samples\n",
      "Epoch 1/100\n",
      "800/800 [==============================] - 0s 71us/sample - loss: 3.1782 - val_loss: 3.3517\n",
      "Epoch 2/100\n",
      "800/800 [==============================] - 0s 74us/sample - loss: 3.1509 - val_loss: 3.3235\n",
      "Epoch 3/100\n",
      "800/800 [==============================] - 0s 80us/sample - loss: 3.1245 - val_loss: 3.2961\n",
      "Epoch 4/100\n",
      "800/800 [==============================] - 0s 86us/sample - loss: 3.0984 - val_loss: 3.2685\n",
      "Epoch 5/100\n",
      "800/800 [==============================] - 0s 77us/sample - loss: 3.0728 - val_loss: 3.2415\n",
      "Epoch 6/100\n",
      "800/800 [==============================] - 0s 87us/sample - loss: 3.0472 - val_loss: 3.2150\n",
      "Epoch 7/100\n",
      "800/800 [==============================] - 0s 80us/sample - loss: 3.0226 - val_loss: 3.1895\n",
      "Epoch 8/100\n",
      "800/800 [==============================] - 0s 76us/sample - loss: 2.9985 - val_loss: 3.1640\n",
      "Epoch 9/100\n",
      "800/800 [==============================] - 0s 70us/sample - loss: 2.9746 - val_loss: 3.1389\n",
      "Epoch 10/100\n",
      "800/800 [==============================] - 0s 64us/sample - loss: 2.9510 - val_loss: 3.1140\n",
      "Epoch 11/100\n",
      "800/800 [==============================] - 0s 67us/sample - loss: 2.9279 - val_loss: 3.0895\n",
      "Epoch 12/100\n",
      "800/800 [==============================] - 0s 61us/sample - loss: 2.9051 - val_loss: 3.0660\n",
      "Epoch 13/100\n",
      "800/800 [==============================] - 0s 72us/sample - loss: 2.8837 - val_loss: 3.0427\n",
      "Epoch 14/100\n",
      "800/800 [==============================] - 0s 70us/sample - loss: 2.8615 - val_loss: 3.0206\n",
      "Epoch 15/100\n",
      "800/800 [==============================] - 0s 61us/sample - loss: 2.8401 - val_loss: 2.9970\n",
      "Epoch 16/100\n",
      "800/800 [==============================] - 0s 72us/sample - loss: 2.8187 - val_loss: 2.9758\n",
      "Epoch 17/100\n",
      "800/800 [==============================] - 0s 69us/sample - loss: 2.7978 - val_loss: 2.9531\n",
      "Epoch 18/100\n",
      "800/800 [==============================] - 0s 70us/sample - loss: 2.7780 - val_loss: 2.9324\n",
      "Epoch 19/100\n",
      "800/800 [==============================] - 0s 64us/sample - loss: 2.7577 - val_loss: 2.9112\n",
      "Epoch 20/100\n",
      "800/800 [==============================] - 0s 65us/sample - loss: 2.7376 - val_loss: 2.8916\n",
      "Epoch 21/100\n",
      "800/800 [==============================] - 0s 68us/sample - loss: 2.7180 - val_loss: 2.8698\n",
      "Epoch 22/100\n",
      "800/800 [==============================] - 0s 62us/sample - loss: 2.6995 - val_loss: 2.8502\n",
      "Epoch 23/100\n",
      "800/800 [==============================] - 0s 67us/sample - loss: 2.6806 - val_loss: 2.8313\n",
      "Epoch 24/100\n",
      "800/800 [==============================] - 0s 76us/sample - loss: 2.6635 - val_loss: 2.8108\n",
      "Epoch 25/100\n",
      "800/800 [==============================] - 0s 67us/sample - loss: 2.6449 - val_loss: 2.7914\n",
      "Epoch 26/100\n",
      "800/800 [==============================] - 0s 61us/sample - loss: 2.6257 - val_loss: 2.7727\n",
      "Epoch 27/100\n",
      "800/800 [==============================] - 0s 67us/sample - loss: 2.6080 - val_loss: 2.7544\n",
      "Epoch 28/100\n",
      "800/800 [==============================] - 0s 71us/sample - loss: 2.5910 - val_loss: 2.7364\n",
      "Epoch 29/100\n",
      "800/800 [==============================] - 0s 61us/sample - loss: 2.5741 - val_loss: 2.7185\n",
      "Epoch 30/100\n",
      "800/800 [==============================] - 0s 72us/sample - loss: 2.5575 - val_loss: 2.7022\n",
      "Epoch 31/100\n",
      "800/800 [==============================] - 0s 74us/sample - loss: 2.5408 - val_loss: 2.6831\n",
      "Epoch 32/100\n",
      "800/800 [==============================] - 0s 85us/sample - loss: 2.5247 - val_loss: 2.6657\n",
      "Epoch 33/100\n",
      "800/800 [==============================] - 0s 74us/sample - loss: 2.5081 - val_loss: 2.6485\n",
      "Epoch 34/100\n",
      "800/800 [==============================] - 0s 71us/sample - loss: 2.4925 - val_loss: 2.6325\n",
      "Epoch 35/100\n",
      "800/800 [==============================] - 0s 67us/sample - loss: 2.4772 - val_loss: 2.6167\n",
      "Epoch 36/100\n",
      "800/800 [==============================] - 0s 74us/sample - loss: 2.4616 - val_loss: 2.5994\n",
      "Epoch 37/100\n",
      "800/800 [==============================] - 0s 67us/sample - loss: 2.4467 - val_loss: 2.5844\n",
      "Epoch 38/100\n",
      "800/800 [==============================] - 0s 60us/sample - loss: 2.4312 - val_loss: 2.5680\n",
      "Epoch 39/100\n",
      "800/800 [==============================] - 0s 74us/sample - loss: 2.4168 - val_loss: 2.5527\n",
      "Epoch 40/100\n",
      "800/800 [==============================] - 0s 59us/sample - loss: 2.4021 - val_loss: 2.5370\n",
      "Epoch 41/100\n",
      "800/800 [==============================] - 0s 75us/sample - loss: 2.3873 - val_loss: 2.5220\n",
      "Epoch 42/100\n",
      "800/800 [==============================] - 0s 69us/sample - loss: 2.3735 - val_loss: 2.5076\n",
      "Epoch 43/100\n",
      "800/800 [==============================] - 0s 71us/sample - loss: 2.3592 - val_loss: 2.4924\n",
      "Epoch 44/100\n",
      "800/800 [==============================] - 0s 65us/sample - loss: 2.3454 - val_loss: 2.4776\n",
      "Epoch 45/100\n",
      "800/800 [==============================] - 0s 74us/sample - loss: 2.3317 - val_loss: 2.4634\n",
      "Epoch 46/100\n",
      "800/800 [==============================] - 0s 65us/sample - loss: 2.3191 - val_loss: 2.4493\n",
      "Epoch 47/100\n",
      "800/800 [==============================] - 0s 60us/sample - loss: 2.3054 - val_loss: 2.4347\n",
      "Epoch 48/100\n",
      "800/800 [==============================] - 0s 68us/sample - loss: 2.2917 - val_loss: 2.4211\n",
      "Epoch 49/100\n",
      "800/800 [==============================] - 0s 69us/sample - loss: 2.2785 - val_loss: 2.4076\n",
      "Epoch 50/100\n",
      "800/800 [==============================] - 0s 80us/sample - loss: 2.2662 - val_loss: 2.3949\n",
      "Epoch 51/100\n",
      "800/800 [==============================] - 0s 71us/sample - loss: 2.2532 - val_loss: 2.3805\n",
      "Epoch 52/100\n",
      "800/800 [==============================] - 0s 66us/sample - loss: 2.2402 - val_loss: 2.3671\n",
      "Epoch 53/100\n",
      "800/800 [==============================] - 0s 65us/sample - loss: 2.2280 - val_loss: 2.3539\n",
      "Epoch 54/100\n",
      "800/800 [==============================] - 0s 67us/sample - loss: 2.2156 - val_loss: 2.3411\n",
      "Epoch 55/100\n",
      "800/800 [==============================] - 0s 71us/sample - loss: 2.2031 - val_loss: 2.3294\n",
      "Epoch 56/100\n",
      "800/800 [==============================] - 0s 60us/sample - loss: 2.1913 - val_loss: 2.3152\n",
      "Epoch 57/100\n",
      "800/800 [==============================] - 0s 70us/sample - loss: 2.1797 - val_loss: 2.3034\n",
      "Epoch 58/100\n",
      "800/800 [==============================] - 0s 66us/sample - loss: 2.1677 - val_loss: 2.2907\n",
      "Epoch 59/100\n",
      "800/800 [==============================] - 0s 70us/sample - loss: 2.1561 - val_loss: 2.2790\n",
      "Epoch 60/100\n",
      "800/800 [==============================] - 0s 66us/sample - loss: 2.1447 - val_loss: 2.2660\n",
      "Epoch 61/100\n",
      "800/800 [==============================] - 0s 66us/sample - loss: 2.1332 - val_loss: 2.2539\n",
      "Epoch 62/100\n",
      "800/800 [==============================] - 0s 57us/sample - loss: 2.1222 - val_loss: 2.2423\n",
      "Epoch 63/100\n",
      "800/800 [==============================] - 0s 74us/sample - loss: 2.1106 - val_loss: 2.2301\n",
      "Epoch 64/100\n",
      "800/800 [==============================] - 0s 62us/sample - loss: 2.0992 - val_loss: 2.2188\n",
      "Epoch 65/100\n",
      "800/800 [==============================] - 0s 65us/sample - loss: 2.0884 - val_loss: 2.2068\n",
      "Epoch 66/100\n",
      "800/800 [==============================] - 0s 64us/sample - loss: 2.0773 - val_loss: 2.1955\n",
      "Epoch 67/100\n",
      "800/800 [==============================] - 0s 69us/sample - loss: 2.0665 - val_loss: 2.1838\n",
      "Epoch 68/100\n",
      "800/800 [==============================] - 0s 69us/sample - loss: 2.0557 - val_loss: 2.1726\n",
      "Epoch 69/100\n",
      "800/800 [==============================] - 0s 61us/sample - loss: 2.0453 - val_loss: 2.1613\n",
      "Epoch 70/100\n",
      "800/800 [==============================] - 0s 82us/sample - loss: 2.0348 - val_loss: 2.1500\n",
      "Epoch 71/100\n",
      "800/800 [==============================] - 0s 76us/sample - loss: 2.0241 - val_loss: 2.1390\n",
      "Epoch 72/100\n",
      "800/800 [==============================] - 0s 67us/sample - loss: 2.0134 - val_loss: 2.1283\n",
      "Epoch 73/100\n",
      "800/800 [==============================] - 0s 64us/sample - loss: 2.0037 - val_loss: 2.1181\n",
      "Epoch 74/100\n",
      "800/800 [==============================] - 0s 76us/sample - loss: 1.9931 - val_loss: 2.1064\n",
      "Epoch 75/100\n",
      "800/800 [==============================] - 0s 67us/sample - loss: 1.9830 - val_loss: 2.0959\n",
      "Epoch 76/100\n",
      "800/800 [==============================] - 0s 75us/sample - loss: 1.9727 - val_loss: 2.0849\n",
      "Epoch 77/100\n",
      "800/800 [==============================] - 0s 74us/sample - loss: 1.9629 - val_loss: 2.0747\n",
      "Epoch 78/100\n",
      "800/800 [==============================] - 0s 68us/sample - loss: 1.9528 - val_loss: 2.0639\n",
      "Epoch 79/100\n",
      "800/800 [==============================] - 0s 70us/sample - loss: 1.9427 - val_loss: 2.0534\n",
      "Epoch 80/100\n",
      "800/800 [==============================] - 0s 69us/sample - loss: 1.9332 - val_loss: 2.0431\n",
      "Epoch 81/100\n",
      "800/800 [==============================] - 0s 64us/sample - loss: 1.9235 - val_loss: 2.0331\n",
      "Epoch 82/100\n",
      "800/800 [==============================] - 0s 68us/sample - loss: 1.9137 - val_loss: 2.0232\n",
      "Epoch 83/100\n",
      "800/800 [==============================] - 0s 62us/sample - loss: 1.9046 - val_loss: 2.0123\n",
      "Epoch 84/100\n",
      "800/800 [==============================] - 0s 62us/sample - loss: 1.8946 - val_loss: 2.0027\n",
      "Epoch 85/100\n",
      "800/800 [==============================] - 0s 70us/sample - loss: 1.8848 - val_loss: 1.9926\n",
      "Epoch 86/100\n",
      "800/800 [==============================] - 0s 60us/sample - loss: 1.8754 - val_loss: 1.9824\n",
      "Epoch 87/100\n",
      "800/800 [==============================] - 0s 69us/sample - loss: 1.8664 - val_loss: 1.9725\n",
      "Epoch 88/100\n",
      "800/800 [==============================] - 0s 61us/sample - loss: 1.8572 - val_loss: 1.9635\n",
      "Epoch 89/100\n",
      "800/800 [==============================] - 0s 60us/sample - loss: 1.8478 - val_loss: 1.9526\n",
      "Epoch 90/100\n",
      "800/800 [==============================] - 0s 71us/sample - loss: 1.8385 - val_loss: 1.9434\n",
      "Epoch 91/100\n",
      "800/800 [==============================] - 0s 64us/sample - loss: 1.8290 - val_loss: 1.9334\n",
      "Epoch 92/100\n",
      "800/800 [==============================] - 0s 59us/sample - loss: 1.8209 - val_loss: 1.9241\n",
      "Epoch 93/100\n",
      "800/800 [==============================] - 0s 137us/sample - loss: 1.8110 - val_loss: 1.9146\n",
      "Epoch 94/100\n",
      "800/800 [==============================] - 0s 79us/sample - loss: 1.8020 - val_loss: 1.9046\n",
      "Epoch 95/100\n",
      "800/800 [==============================] - 0s 67us/sample - loss: 1.7933 - val_loss: 1.8951\n",
      "Epoch 96/100\n",
      "800/800 [==============================] - 0s 66us/sample - loss: 1.7840 - val_loss: 1.8853\n",
      "Epoch 97/100\n",
      "800/800 [==============================] - 0s 65us/sample - loss: 1.7753 - val_loss: 1.8762\n",
      "Epoch 98/100\n",
      "800/800 [==============================] - 0s 59us/sample - loss: 1.7669 - val_loss: 1.8670\n",
      "Epoch 99/100\n",
      "800/800 [==============================] - 0s 70us/sample - loss: 1.7575 - val_loss: 1.8577\n",
      "Epoch 100/100\n",
      "800/800 [==============================] - 0s 71us/sample - loss: 1.7490 - val_loss: 1.8485\n"
     ]
    },
    {
     "data": {
      "text/plain": [
       "<keras.callbacks.History at 0x2731312bfa0>"
      ]
     },
     "execution_count": 219,
     "metadata": {},
     "output_type": "execute_result"
    }
   ],
   "source": [
    "# Train autoencoder\n",
    "vae.fit(array_input_x, None, epochs = 100, batch_size = 32, validation_split = 0.2)"
   ]
  },
  {
   "cell_type": "code",
   "execution_count": 230,
   "metadata": {},
   "outputs": [
    {
     "data": {
      "image/png": "[encoded data removed]",
      "text/plain": [
       "<Figure size 360x360 with 2 Axes>"
      ]
     },
     "metadata": {
      "needs_background": "light"
     },
     "output_type": "display_data"
    }
   ],
   "source": [
    "# =================\n",
    "# Visualize results\n",
    "# =================\n",
    "#Visualize inputs mapped to the Latent space\n",
    "#Remember that we have encoded inputs to latent space dimension = 2. \n",
    "#Extract z_mu --> first parameter in the result of encoder prediction representing mean\n",
    "\n",
    "mu, _, _ = encoder.predict(x_test)\n",
    "#Plot dim1 and dim2 for mu\n",
    "plt.figure(figsize=(5, 5))\n",
    "plt.scatter(mu[:, 0], mu[:, 1], c=y_test, cmap='brg')\n",
    "plt.xlabel('dim 1')\n",
    "plt.ylabel('dim 2')\n",
    "plt.colorbar()\n",
    "plt.show()"
   ]
  },
  {
   "cell_type": "code",
   "execution_count": 232,
   "metadata": {},
   "outputs": [
    {
     "data": {
      "text/plain": [
       "<matplotlib.image.AxesImage at 0x2731a9df070>"
      ]
     },
     "execution_count": 232,
     "metadata": {},
     "output_type": "execute_result"
    },
    {
     "data": {
      "image/png": "[encoded data removed]",
      "text/plain": [
       "<Figure size 432x288 with 1 Axes>"
      ]
     },
     "metadata": {
      "needs_background": "light"
     },
     "output_type": "display_data"
    }
   ],
   "source": [
    "sample_vector = np.array([[-100,100]])\n",
    "decoded_example = decoder.predict(sample_vector)\n",
    "#decoded_example_reshaped = decoded_example.reshape(img_width, img_height)\n",
    "plt.imshow(decoded_example)\n",
    "\n"
   ]
  },
  {
   "cell_type": "code",
   "execution_count": null,
   "metadata": {},
   "outputs": [],
   "source": []
  }
 ],
 "metadata": {
  "kernelspec": {
   "display_name": "Python 3.10.6 64-bit (windows store)",
   "language": "python",
   "name": "python3"
  },
  "language_info": {
   "codemirror_mode": {
    "name": "ipython",
    "version": 3
   },
   "file_extension": ".py",
   "mimetype": "text/x-python",
   "name": "python",
   "nbconvert_exporter": "python",
   "pygments_lexer": "ipython3",
   "version": "3.10.6"
  },
  "orig_nbformat": 4,
  "vscode": {
   "interpreter": {
    "hash": "be0c76a15e7db832c1cef9e000d0973fde535108692ea45e0855d7f2c98f1a97"
   }
  }
 },
 "nbformat": 4,
 "nbformat_minor": 2
}
